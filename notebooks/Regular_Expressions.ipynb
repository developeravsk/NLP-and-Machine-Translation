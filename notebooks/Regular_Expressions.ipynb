{
  "nbformat": 4,
  "nbformat_minor": 0,
  "metadata": {
    "colab": {
      "name": "Regular Expressions.ipynb",
      "provenance": [],
      "collapsed_sections": []
    },
    "kernelspec": {
      "name": "python3",
      "display_name": "Python 3"
    },
    "language_info": {
      "name": "python"
    }
  },
  "cells": [
    {
      "cell_type": "code",
      "execution_count": null,
      "metadata": {
        "colab": {
          "base_uri": "https://localhost:8080/"
        },
        "id": "AB9ms3V0HNiO",
        "outputId": "34be7ec4-ba44-4a91-ba0a-30845b1c9a08"
      },
      "outputs": [
        {
          "output_type": "stream",
          "name": "stdout",
          "text": [
            "C:\\desktop\n",
            "orway\n"
          ]
        }
      ],
      "source": [
        "# raw string\n",
        "path=\"C:\\desktop\\norway\"\n",
        "print(path)"
      ]
    },
    {
      "cell_type": "code",
      "source": [
        "path=r\"C:\\desktop\\norway\"\n",
        "print(path)"
      ],
      "metadata": {
        "colab": {
          "base_uri": "https://localhost:8080/"
        },
        "id": "ytAdKwU-HyrS",
        "outputId": "688fb9f6-97e5-485c-973f-9abb9319653f"
      },
      "execution_count": null,
      "outputs": [
        {
          "output_type": "stream",
          "name": "stdout",
          "text": [
            "C:\\desktop\\norway\n"
          ]
        }
      ]
    },
    {
      "cell_type": "code",
      "source": [
        "# re.search()\n",
        "\n",
        "import re\n",
        "result=re.search('students',r'All of the students of NLPMT are genious')\n",
        "print(result.group()) "
      ],
      "metadata": {
        "colab": {
          "base_uri": "https://localhost:8080/"
        },
        "id": "OpRZdBTBH7Pb",
        "outputId": "4eb67e1a-5a9f-4d00-c73d-aaaedf666d44"
      },
      "execution_count": null,
      "outputs": [
        {
          "output_type": "stream",
          "name": "stdout",
          "text": [
            "students\n"
          ]
        }
      ]
    },
    {
      "cell_type": "code",
      "source": [
        "# re.match()\n",
        "\n",
        "import re\n",
        "result=re.match('All',r'All of the students of NLPMT are genious')\n",
        "print(result) \n",
        "print(result.group())"
      ],
      "metadata": {
        "colab": {
          "base_uri": "https://localhost:8080/"
        },
        "id": "IwcFr6xiJ_BT",
        "outputId": "c45fe905-2823-4e3a-8678-e44b95adc40c"
      },
      "execution_count": null,
      "outputs": [
        {
          "output_type": "stream",
          "name": "stdout",
          "text": [
            "<re.Match object; span=(0, 3), match='All'>\n",
            "All\n"
          ]
        }
      ]
    },
    {
      "cell_type": "code",
      "source": [
        "# re.sub()\n",
        "\n",
        "import re\n",
        "string=\"abc xxx abc yyy\"\n",
        "result=re.sub(r\"xxx|yyy\", \"abc\", string)\n",
        "print(result) "
      ],
      "metadata": {
        "colab": {
          "base_uri": "https://localhost:8080/"
        },
        "id": "ZJcN_axMKRn8",
        "outputId": "b7d4204f-9f04-4f50-835b-ed1cf111d85d"
      },
      "execution_count": null,
      "outputs": [
        {
          "output_type": "stream",
          "name": "stdout",
          "text": [
            "abc abc abc abc\n"
          ]
        }
      ]
    },
    {
      "cell_type": "code",
      "source": [
        "# re.compile()\n",
        "\n",
        "import re\n",
        "pattern=re.compile('Analytics')\n",
        "result1=pattern.findall('I teach Analytics')\n",
        "print(result1)\n",
        "result2=pattern.findall('i teach Analytics which is important for Data Science and Analytics')\n",
        "print(result2)"
      ],
      "metadata": {
        "colab": {
          "base_uri": "https://localhost:8080/"
        },
        "id": "H0foDxpCLn6N",
        "outputId": "4c0a20c1-8f33-4286-d72f-81d9cdcfc826"
      },
      "execution_count": null,
      "outputs": [
        {
          "output_type": "stream",
          "name": "stdout",
          "text": [
            "['Analytics']\n",
            "['Analytics', 'Analytics']\n"
          ]
        }
      ]
    },
    {
      "cell_type": "code",
      "source": [
        "# re.findall()\n",
        "import re\n",
        "result1=re.findall('founded','Andrew NG founded Coursera, He also founded deeplearning.ai')\n",
        "print(result1)"
      ],
      "metadata": {
        "colab": {
          "base_uri": "https://localhost:8080/"
        },
        "id": "c5pfHERhQbe2",
        "outputId": "cc937949-3434-467e-be10-ce8a4b9dafb8"
      },
      "execution_count": null,
      "outputs": [
        {
          "output_type": "stream",
          "name": "stdout",
          "text": [
            "['founded', 'founded']\n"
          ]
        }
      ]
    },
    {
      "cell_type": "code",
      "source": [
        "text = \"I want to buy a mobile between 200 and 400 euros\"\n",
        "result = re.findall(r\"\\d+\", text)\n",
        "print(result)"
      ],
      "metadata": {
        "colab": {
          "base_uri": "https://localhost:8080/"
        },
        "id": "jFHlMB48vI0U",
        "outputId": "6e96665d-307a-4242-9c51-37cfcd6284c9"
      },
      "execution_count": 45,
      "outputs": [
        {
          "output_type": "stream",
          "name": "stdout",
          "text": [
            "['200', '400']\n"
          ]
        }
      ]
    },
    {
      "cell_type": "code",
      "source": [
        "txt = \"The rain in Spain\"\n",
        "x = re.search(r\"\\bS\\w+\", txt)\n",
        "print(x.group()) "
      ],
      "metadata": {
        "colab": {
          "base_uri": "https://localhost:8080/"
        },
        "id": "A5w_mIHou1Pw",
        "outputId": "0b880e77-35d5-416a-c360-f23fb529bf4f"
      },
      "execution_count": 44,
      "outputs": [
        {
          "output_type": "stream",
          "name": "stdout",
          "text": [
            "Spain\n"
          ]
        }
      ]
    },
    {
      "cell_type": "code",
      "source": [
        "import re\n",
        "s = \"Jason's birthday is on 1991-09-21\"\n",
        "match = re.search(r'\\d{4}-\\d{2}-\\d{2}', s)\n",
        "print(match.group())"
      ],
      "metadata": {
        "id": "h-UGgxQuYK2_",
        "outputId": "2b16a905-07f9-4ba7-f1bd-2120969ede63",
        "colab": {
          "base_uri": "https://localhost:8080/"
        }
      },
      "execution_count": null,
      "outputs": [
        {
          "output_type": "stream",
          "name": "stdout",
          "text": [
            "1991-09-21\n"
          ]
        }
      ]
    },
    {
      "cell_type": "code",
      "source": [
        "import re\n",
        "text = \"Please contact us at contact1@tutorialspoint.com for further information.\"+\\\n",
        "        \" You can also give feedbacl at feedback@tp.com\"\n",
        "emails = re.findall(r\"[a-z]+@[a-z]+\\.[a-z]+\", text)\n",
        "print(emails)"
      ],
      "metadata": {
        "colab": {
          "base_uri": "https://localhost:8080/"
        },
        "id": "9_HQVO5QuBq_",
        "outputId": "bdc272ed-57fe-4639-9547-4b787c52737e"
      },
      "execution_count": 35,
      "outputs": [
        {
          "output_type": "stream",
          "name": "stdout",
          "text": [
            "['feedback@tp.com']\n"
          ]
        }
      ]
    },
    {
      "cell_type": "code",
      "source": [
        "import re\n",
        "text = \"Please contact us at contact1_ar@tutorialspoint.com for further information.\"+\\\n",
        "        \" You can also give feedbacl at feedback@tp.com\"\n",
        "emails = re.findall(r\"[a-z0-9\\.\\-+_]+@[a-z0-9\\.\\-+_]+\\.[a-z]+\", text)\n",
        "print(emails)"
      ],
      "metadata": {
        "colab": {
          "base_uri": "https://localhost:8080/"
        },
        "id": "jzMqccwwU8xY",
        "outputId": "589a2d8b-21b9-4220-c80b-d9108c52f071"
      },
      "execution_count": 43,
      "outputs": [
        {
          "output_type": "stream",
          "name": "stdout",
          "text": [
            "['contact1_ar@tutorialspoint.com', 'feedback@tp.com']\n"
          ]
        }
      ]
    },
    {
      "cell_type": "code",
      "source": [
        ""
      ],
      "metadata": {
        "id": "vOJyx0aoWHcW"
      },
      "execution_count": 41,
      "outputs": []
    },
    {
      "cell_type": "code",
      "source": [
        ""
      ],
      "metadata": {
        "id": "DFyBnrzAWj4s"
      },
      "execution_count": null,
      "outputs": []
    }
  ]
}